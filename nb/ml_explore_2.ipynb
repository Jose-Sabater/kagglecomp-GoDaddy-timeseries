{
 "cells": [
  {
   "cell_type": "code",
   "execution_count": 48,
   "metadata": {},
   "outputs": [
    {
     "name": "stdout",
     "output_type": "stream",
     "text": [
      "The lab_black extension is already loaded. To reload it, use:\n",
      "  %reload_ext lab_black\n"
     ]
    }
   ],
   "source": [
    "import pandas as pd\n",
    "import numpy as np\n",
    "import matplotlib.pyplot as plt\n",
    "import seaborn as sns\n",
    "from sklearn.preprocessing import LabelEncoder\n",
    "from sklearn.model_selection import train_test_split\n",
    "\n",
    "%matplotlib inline\n",
    "%load_ext lab_black"
   ]
  },
  {
   "attachments": {},
   "cell_type": "markdown",
   "metadata": {},
   "source": [
    "## Explore a base model that only uses microdensities to determine the next microdensity.\n",
    "Thus, to increase our data:  \n",
    "- We have 39 instances per county\n",
    "- We can use the first 23 to calculate the 24, then 2-25 to calculate 26, and so on.\n",
    "- We then have trained a model that can predict the next microdensity based on previous instances.\n",
    "\n",
    "- As a later stage we can include census information as an extra filtering technique"
   ]
  },
  {
   "cell_type": "code",
   "execution_count": 49,
   "metadata": {},
   "outputs": [],
   "source": [
    "df = pd.read_csv(\n",
    "    \"../data/processed/county_data.csv\",\n",
    "    usecols=[\n",
    "        \"cfips\",\n",
    "        \"first_day_of_month\",\n",
    "        \"active\",\n",
    "        \"POPESTIMATE2021\",\n",
    "        \"microbusiness_density\",\n",
    "    ],\n",
    ")\n",
    "test = pd.read_csv(\"../data/raw/test.csv\")"
   ]
  },
  {
   "cell_type": "code",
   "execution_count": 50,
   "metadata": {},
   "outputs": [
    {
     "data": {
      "text/html": [
       "<div>\n",
       "<style scoped>\n",
       "    .dataframe tbody tr th:only-of-type {\n",
       "        vertical-align: middle;\n",
       "    }\n",
       "\n",
       "    .dataframe tbody tr th {\n",
       "        vertical-align: top;\n",
       "    }\n",
       "\n",
       "    .dataframe thead th {\n",
       "        text-align: right;\n",
       "    }\n",
       "</style>\n",
       "<table border=\"1\" class=\"dataframe\">\n",
       "  <thead>\n",
       "    <tr style=\"text-align: right;\">\n",
       "      <th></th>\n",
       "      <th>cfips</th>\n",
       "      <th>first_day_of_month</th>\n",
       "      <th>microbusiness_density</th>\n",
       "      <th>active</th>\n",
       "      <th>POPESTIMATE2021</th>\n",
       "    </tr>\n",
       "  </thead>\n",
       "  <tbody>\n",
       "    <tr>\n",
       "      <th>0</th>\n",
       "      <td>1001</td>\n",
       "      <td>2019-08-01</td>\n",
       "      <td>3.007682</td>\n",
       "      <td>1249</td>\n",
       "      <td>59095</td>\n",
       "    </tr>\n",
       "    <tr>\n",
       "      <th>1</th>\n",
       "      <td>1001</td>\n",
       "      <td>2019-09-01</td>\n",
       "      <td>2.884870</td>\n",
       "      <td>1198</td>\n",
       "      <td>59095</td>\n",
       "    </tr>\n",
       "    <tr>\n",
       "      <th>2</th>\n",
       "      <td>1001</td>\n",
       "      <td>2019-10-01</td>\n",
       "      <td>3.055843</td>\n",
       "      <td>1269</td>\n",
       "      <td>59095</td>\n",
       "    </tr>\n",
       "    <tr>\n",
       "      <th>3</th>\n",
       "      <td>1001</td>\n",
       "      <td>2019-11-01</td>\n",
       "      <td>2.993233</td>\n",
       "      <td>1243</td>\n",
       "      <td>59095</td>\n",
       "    </tr>\n",
       "    <tr>\n",
       "      <th>4</th>\n",
       "      <td>1001</td>\n",
       "      <td>2019-12-01</td>\n",
       "      <td>2.993233</td>\n",
       "      <td>1243</td>\n",
       "      <td>59095</td>\n",
       "    </tr>\n",
       "  </tbody>\n",
       "</table>\n",
       "</div>"
      ],
      "text/plain": [
       "   cfips first_day_of_month  microbusiness_density  active  POPESTIMATE2021\n",
       "0   1001         2019-08-01               3.007682    1249            59095\n",
       "1   1001         2019-09-01               2.884870    1198            59095\n",
       "2   1001         2019-10-01               3.055843    1269            59095\n",
       "3   1001         2019-11-01               2.993233    1243            59095\n",
       "4   1001         2019-12-01               2.993233    1243            59095"
      ]
     },
     "execution_count": 50,
     "metadata": {},
     "output_type": "execute_result"
    }
   ],
   "source": [
    "df.head()"
   ]
  },
  {
   "cell_type": "code",
   "execution_count": 51,
   "metadata": {},
   "outputs": [
    {
     "data": {
      "text/plain": [
       "1001     39\n",
       "39133    39\n",
       "39089    39\n",
       "39091    39\n",
       "39093    39\n",
       "         ..\n",
       "21113    39\n",
       "21115    39\n",
       "21117    39\n",
       "21119    39\n",
       "56045    39\n",
       "Name: cfips, Length: 3135, dtype: int64"
      ]
     },
     "execution_count": 51,
     "metadata": {},
     "output_type": "execute_result"
    }
   ],
   "source": [
    "df[\"cfips\"].value_counts()"
   ]
  },
  {
   "cell_type": "code",
   "execution_count": 52,
   "metadata": {},
   "outputs": [],
   "source": [
    "# Create an empty list to store the new time series\n",
    "time_series = []\n",
    "\n",
    "# Loop over each cfips\n",
    "for cfips in df[\"cfips\"].unique():\n",
    "    # Filter the data for the current cfips\n",
    "    df_cfips = df[df[\"cfips\"] == cfips].reset_index(drop=True)\n",
    "    # Loop over the time series from 0 to 14 (inclusive)\n",
    "    for i in range(0, 15):\n",
    "        # Create a new time series with the values for the current cfips and range of first_day_of_month\n",
    "        time_series.append(\n",
    "            {\n",
    "                \"cfips\": cfips,\n",
    "                \"POPESTIMATE2021\": df_cfips.loc[0, \"POPESTIMATE2021\"],\n",
    "                \"active\": df_cfips.loc[0, \"active\"],\n",
    "                \"microbusiness_density\": df_cfips.loc[\n",
    "                    i : i + 23, \"microbusiness_density\"\n",
    "                ].values.tolist(),\n",
    "                \"target\": df_cfips.loc[i + 24, \"microbusiness_density\"],\n",
    "                \"target_date\": df_cfips.loc[i + 24, \"first_day_of_month\"],\n",
    "            }\n",
    "        )\n",
    "\n",
    "# Create a new dataframe with the list of time series\n",
    "new_df = pd.DataFrame(time_series)"
   ]
  },
  {
   "cell_type": "code",
   "execution_count": 53,
   "metadata": {},
   "outputs": [
    {
     "data": {
      "text/html": [
       "<div>\n",
       "<style scoped>\n",
       "    .dataframe tbody tr th:only-of-type {\n",
       "        vertical-align: middle;\n",
       "    }\n",
       "\n",
       "    .dataframe tbody tr th {\n",
       "        vertical-align: top;\n",
       "    }\n",
       "\n",
       "    .dataframe thead th {\n",
       "        text-align: right;\n",
       "    }\n",
       "</style>\n",
       "<table border=\"1\" class=\"dataframe\">\n",
       "  <thead>\n",
       "    <tr style=\"text-align: right;\">\n",
       "      <th></th>\n",
       "      <th>cfips</th>\n",
       "      <th>POPESTIMATE2021</th>\n",
       "      <th>active</th>\n",
       "      <th>microbusiness_density</th>\n",
       "      <th>target</th>\n",
       "      <th>target_date</th>\n",
       "    </tr>\n",
       "  </thead>\n",
       "  <tbody>\n",
       "    <tr>\n",
       "      <th>0</th>\n",
       "      <td>1001</td>\n",
       "      <td>59095</td>\n",
       "      <td>1249</td>\n",
       "      <td>[3.0076818, 2.8848701, 3.0558431, 2.9932332, 2...</td>\n",
       "      <td>3.219917</td>\n",
       "      <td>2021-08-01</td>\n",
       "    </tr>\n",
       "    <tr>\n",
       "      <th>1</th>\n",
       "      <td>1001</td>\n",
       "      <td>59095</td>\n",
       "      <td>1249</td>\n",
       "      <td>[2.8848701, 3.0558431, 2.9932332, 2.9932332, 2...</td>\n",
       "      <td>3.186722</td>\n",
       "      <td>2021-09-01</td>\n",
       "    </tr>\n",
       "    <tr>\n",
       "      <th>2</th>\n",
       "      <td>1001</td>\n",
       "      <td>59095</td>\n",
       "      <td>1249</td>\n",
       "      <td>[3.0558431, 2.9932332, 2.9932332, 2.96909, 2.9...</td>\n",
       "      <td>3.203320</td>\n",
       "      <td>2021-10-01</td>\n",
       "    </tr>\n",
       "    <tr>\n",
       "      <th>3</th>\n",
       "      <td>1001</td>\n",
       "      <td>59095</td>\n",
       "      <td>1249</td>\n",
       "      <td>[2.9932332, 2.9932332, 2.96909, 2.9093256, 2.9...</td>\n",
       "      <td>3.200948</td>\n",
       "      <td>2021-11-01</td>\n",
       "    </tr>\n",
       "    <tr>\n",
       "      <th>4</th>\n",
       "      <td>1001</td>\n",
       "      <td>59095</td>\n",
       "      <td>1249</td>\n",
       "      <td>[2.9932332, 2.96909, 2.9093256, 2.9332314, 3.0...</td>\n",
       "      <td>3.286307</td>\n",
       "      <td>2021-12-01</td>\n",
       "    </tr>\n",
       "  </tbody>\n",
       "</table>\n",
       "</div>"
      ],
      "text/plain": [
       "   cfips  POPESTIMATE2021  active  \\\n",
       "0   1001            59095    1249   \n",
       "1   1001            59095    1249   \n",
       "2   1001            59095    1249   \n",
       "3   1001            59095    1249   \n",
       "4   1001            59095    1249   \n",
       "\n",
       "                               microbusiness_density    target target_date  \n",
       "0  [3.0076818, 2.8848701, 3.0558431, 2.9932332, 2...  3.219917  2021-08-01  \n",
       "1  [2.8848701, 3.0558431, 2.9932332, 2.9932332, 2...  3.186722  2021-09-01  \n",
       "2  [3.0558431, 2.9932332, 2.9932332, 2.96909, 2.9...  3.203320  2021-10-01  \n",
       "3  [2.9932332, 2.9932332, 2.96909, 2.9093256, 2.9...  3.200948  2021-11-01  \n",
       "4  [2.9932332, 2.96909, 2.9093256, 2.9332314, 3.0...  3.286307  2021-12-01  "
      ]
     },
     "execution_count": 53,
     "metadata": {},
     "output_type": "execute_result"
    }
   ],
   "source": [
    "new_df.head()"
   ]
  },
  {
   "cell_type": "code",
   "execution_count": 54,
   "metadata": {},
   "outputs": [
    {
     "data": {
      "text/html": [
       "<div>\n",
       "<style scoped>\n",
       "    .dataframe tbody tr th:only-of-type {\n",
       "        vertical-align: middle;\n",
       "    }\n",
       "\n",
       "    .dataframe tbody tr th {\n",
       "        vertical-align: top;\n",
       "    }\n",
       "\n",
       "    .dataframe thead th {\n",
       "        text-align: right;\n",
       "    }\n",
       "</style>\n",
       "<table border=\"1\" class=\"dataframe\">\n",
       "  <thead>\n",
       "    <tr style=\"text-align: right;\">\n",
       "      <th></th>\n",
       "      <th>cfips</th>\n",
       "      <th>POPESTIMATE2021</th>\n",
       "      <th>active</th>\n",
       "      <th>target</th>\n",
       "      <th>target_date</th>\n",
       "      <th>0</th>\n",
       "      <th>1</th>\n",
       "      <th>2</th>\n",
       "      <th>3</th>\n",
       "      <th>4</th>\n",
       "      <th>...</th>\n",
       "      <th>14</th>\n",
       "      <th>15</th>\n",
       "      <th>16</th>\n",
       "      <th>17</th>\n",
       "      <th>18</th>\n",
       "      <th>19</th>\n",
       "      <th>20</th>\n",
       "      <th>21</th>\n",
       "      <th>22</th>\n",
       "      <th>23</th>\n",
       "    </tr>\n",
       "  </thead>\n",
       "  <tbody>\n",
       "    <tr>\n",
       "      <th>0</th>\n",
       "      <td>1001</td>\n",
       "      <td>59095</td>\n",
       "      <td>1249</td>\n",
       "      <td>3.219917</td>\n",
       "      <td>2021-08-01</td>\n",
       "      <td>3.007682</td>\n",
       "      <td>2.884870</td>\n",
       "      <td>3.055843</td>\n",
       "      <td>2.993233</td>\n",
       "      <td>2.993233</td>\n",
       "      <td>...</td>\n",
       "      <td>3.193804</td>\n",
       "      <td>3.038416</td>\n",
       "      <td>3.002558</td>\n",
       "      <td>2.947244</td>\n",
       "      <td>3.106106</td>\n",
       "      <td>3.144043</td>\n",
       "      <td>3.224659</td>\n",
       "      <td>3.227030</td>\n",
       "      <td>3.222288</td>\n",
       "      <td>3.210433</td>\n",
       "    </tr>\n",
       "    <tr>\n",
       "      <th>1</th>\n",
       "      <td>1001</td>\n",
       "      <td>59095</td>\n",
       "      <td>1249</td>\n",
       "      <td>3.186722</td>\n",
       "      <td>2021-09-01</td>\n",
       "      <td>2.884870</td>\n",
       "      <td>3.055843</td>\n",
       "      <td>2.993233</td>\n",
       "      <td>2.993233</td>\n",
       "      <td>2.969090</td>\n",
       "      <td>...</td>\n",
       "      <td>3.038416</td>\n",
       "      <td>3.002558</td>\n",
       "      <td>2.947244</td>\n",
       "      <td>3.106106</td>\n",
       "      <td>3.144043</td>\n",
       "      <td>3.224659</td>\n",
       "      <td>3.227030</td>\n",
       "      <td>3.222288</td>\n",
       "      <td>3.210433</td>\n",
       "      <td>3.219917</td>\n",
       "    </tr>\n",
       "    <tr>\n",
       "      <th>2</th>\n",
       "      <td>1001</td>\n",
       "      <td>59095</td>\n",
       "      <td>1249</td>\n",
       "      <td>3.203320</td>\n",
       "      <td>2021-10-01</td>\n",
       "      <td>3.055843</td>\n",
       "      <td>2.993233</td>\n",
       "      <td>2.993233</td>\n",
       "      <td>2.969090</td>\n",
       "      <td>2.909326</td>\n",
       "      <td>...</td>\n",
       "      <td>3.002558</td>\n",
       "      <td>2.947244</td>\n",
       "      <td>3.106106</td>\n",
       "      <td>3.144043</td>\n",
       "      <td>3.224659</td>\n",
       "      <td>3.227030</td>\n",
       "      <td>3.222288</td>\n",
       "      <td>3.210433</td>\n",
       "      <td>3.219917</td>\n",
       "      <td>3.186722</td>\n",
       "    </tr>\n",
       "    <tr>\n",
       "      <th>3</th>\n",
       "      <td>1001</td>\n",
       "      <td>59095</td>\n",
       "      <td>1249</td>\n",
       "      <td>3.200948</td>\n",
       "      <td>2021-11-01</td>\n",
       "      <td>2.993233</td>\n",
       "      <td>2.993233</td>\n",
       "      <td>2.969090</td>\n",
       "      <td>2.909326</td>\n",
       "      <td>2.933231</td>\n",
       "      <td>...</td>\n",
       "      <td>2.947244</td>\n",
       "      <td>3.106106</td>\n",
       "      <td>3.144043</td>\n",
       "      <td>3.224659</td>\n",
       "      <td>3.227030</td>\n",
       "      <td>3.222288</td>\n",
       "      <td>3.210433</td>\n",
       "      <td>3.219917</td>\n",
       "      <td>3.186722</td>\n",
       "      <td>3.203320</td>\n",
       "    </tr>\n",
       "    <tr>\n",
       "      <th>4</th>\n",
       "      <td>1001</td>\n",
       "      <td>59095</td>\n",
       "      <td>1249</td>\n",
       "      <td>3.286307</td>\n",
       "      <td>2021-12-01</td>\n",
       "      <td>2.993233</td>\n",
       "      <td>2.969090</td>\n",
       "      <td>2.909326</td>\n",
       "      <td>2.933231</td>\n",
       "      <td>3.000167</td>\n",
       "      <td>...</td>\n",
       "      <td>3.106106</td>\n",
       "      <td>3.144043</td>\n",
       "      <td>3.224659</td>\n",
       "      <td>3.227030</td>\n",
       "      <td>3.222288</td>\n",
       "      <td>3.210433</td>\n",
       "      <td>3.219917</td>\n",
       "      <td>3.186722</td>\n",
       "      <td>3.203320</td>\n",
       "      <td>3.200948</td>\n",
       "    </tr>\n",
       "  </tbody>\n",
       "</table>\n",
       "<p>5 rows × 29 columns</p>\n",
       "</div>"
      ],
      "text/plain": [
       "   cfips  POPESTIMATE2021  active    target target_date         0         1  \\\n",
       "0   1001            59095    1249  3.219917  2021-08-01  3.007682  2.884870   \n",
       "1   1001            59095    1249  3.186722  2021-09-01  2.884870  3.055843   \n",
       "2   1001            59095    1249  3.203320  2021-10-01  3.055843  2.993233   \n",
       "3   1001            59095    1249  3.200948  2021-11-01  2.993233  2.993233   \n",
       "4   1001            59095    1249  3.286307  2021-12-01  2.993233  2.969090   \n",
       "\n",
       "          2         3         4  ...        14        15        16        17  \\\n",
       "0  3.055843  2.993233  2.993233  ...  3.193804  3.038416  3.002558  2.947244   \n",
       "1  2.993233  2.993233  2.969090  ...  3.038416  3.002558  2.947244  3.106106   \n",
       "2  2.993233  2.969090  2.909326  ...  3.002558  2.947244  3.106106  3.144043   \n",
       "3  2.969090  2.909326  2.933231  ...  2.947244  3.106106  3.144043  3.224659   \n",
       "4  2.909326  2.933231  3.000167  ...  3.106106  3.144043  3.224659  3.227030   \n",
       "\n",
       "         18        19        20        21        22        23  \n",
       "0  3.106106  3.144043  3.224659  3.227030  3.222288  3.210433  \n",
       "1  3.144043  3.224659  3.227030  3.222288  3.210433  3.219917  \n",
       "2  3.224659  3.227030  3.222288  3.210433  3.219917  3.186722  \n",
       "3  3.227030  3.222288  3.210433  3.219917  3.186722  3.203320  \n",
       "4  3.222288  3.210433  3.219917  3.186722  3.203320  3.200948  \n",
       "\n",
       "[5 rows x 29 columns]"
      ]
     },
     "execution_count": 54,
     "metadata": {},
     "output_type": "execute_result"
    }
   ],
   "source": [
    "# convert the list of microbusiness_density to a numpy array and then each into a column\n",
    "new_df[\"microbusiness_density\"] = new_df[\"microbusiness_density\"].apply(\n",
    "    lambda x: np.array(x)\n",
    ")\n",
    "new_df = pd.concat(\n",
    "    [\n",
    "        new_df.drop([\"microbusiness_density\"], axis=1),\n",
    "        new_df[\"microbusiness_density\"].apply(pd.Series),\n",
    "    ],\n",
    "    axis=1,\n",
    ")\n",
    "new_df.head()"
   ]
  },
  {
   "cell_type": "code",
   "execution_count": 55,
   "metadata": {},
   "outputs": [
    {
     "name": "stdout",
     "output_type": "stream",
     "text": [
      "<class 'pandas.core.frame.DataFrame'>\n",
      "RangeIndex: 47025 entries, 0 to 47024\n",
      "Data columns (total 29 columns):\n",
      " #   Column           Non-Null Count  Dtype  \n",
      "---  ------           --------------  -----  \n",
      " 0   cfips            47025 non-null  int64  \n",
      " 1   POPESTIMATE2021  47025 non-null  int64  \n",
      " 2   active           47025 non-null  int64  \n",
      " 3   target           47025 non-null  float64\n",
      " 4   target_date      47025 non-null  object \n",
      " 5   0                47025 non-null  float64\n",
      " 6   1                47025 non-null  float64\n",
      " 7   2                47025 non-null  float64\n",
      " 8   3                47025 non-null  float64\n",
      " 9   4                47025 non-null  float64\n",
      " 10  5                47025 non-null  float64\n",
      " 11  6                47025 non-null  float64\n",
      " 12  7                47025 non-null  float64\n",
      " 13  8                47025 non-null  float64\n",
      " 14  9                47025 non-null  float64\n",
      " 15  10               47025 non-null  float64\n",
      " 16  11               47025 non-null  float64\n",
      " 17  12               47025 non-null  float64\n",
      " 18  13               47025 non-null  float64\n",
      " 19  14               47025 non-null  float64\n",
      " 20  15               47025 non-null  float64\n",
      " 21  16               47025 non-null  float64\n",
      " 22  17               47025 non-null  float64\n",
      " 23  18               47025 non-null  float64\n",
      " 24  19               47025 non-null  float64\n",
      " 25  20               47025 non-null  float64\n",
      " 26  21               47025 non-null  float64\n",
      " 27  22               47025 non-null  float64\n",
      " 28  23               47025 non-null  float64\n",
      "dtypes: float64(25), int64(3), object(1)\n",
      "memory usage: 10.4+ MB\n"
     ]
    }
   ],
   "source": [
    "new_df.info()"
   ]
  },
  {
   "cell_type": "code",
   "execution_count": 56,
   "metadata": {},
   "outputs": [],
   "source": [
    "test[\"first_day_of_month\"] = pd.to_datetime(test[\"first_day_of_month\"])\n",
    "test.sort_values([\"cfips\", \"first_day_of_month\"], inplace=True)"
   ]
  },
  {
   "attachments": {},
   "cell_type": "markdown",
   "metadata": {},
   "source": [
    "## Lets try first just with the timeseries"
   ]
  },
  {
   "cell_type": "code",
   "execution_count": 57,
   "metadata": {},
   "outputs": [],
   "source": [
    "ids = df[\"cfips\"].unique()\n",
    "# create X, which is df_new without the target column\n",
    "X = new_df.drop([\"target\", \"target_date\", \"cfips\", \"POPESTIMATE2021\", \"active\"], axis=1)\n",
    "y = new_df[\"target\"]\n",
    "grps = new_df[\"cfips\"]\n",
    "threshold = 0.1"
   ]
  },
  {
   "cell_type": "code",
   "execution_count": 58,
   "metadata": {},
   "outputs": [],
   "source": [
    "# import group kfold\n",
    "from sklearn.model_selection import GroupKFold\n",
    "\n",
    "# import xgboost predictor\n",
    "from xgboost import XGBRegressor"
   ]
  },
  {
   "cell_type": "code",
   "execution_count": 59,
   "metadata": {},
   "outputs": [
    {
     "name": "stdout",
     "output_type": "stream",
     "text": [
      "(47025, 24) (47025,) (3135,)\n",
      "Split 0:\n",
      "MAE: 0.07740397118491128\n",
      "sMAPE: 0.010581203752371999\n",
      "Percentage within threshold: 100.0\n",
      "Split 1:\n",
      "MAE: 0.0975061128612925\n",
      "sMAPE: 0.010047461684322719\n",
      "Percentage within threshold: 100.0\n",
      "Split 2:\n",
      "MAE: 0.05726510986975953\n",
      "sMAPE: 0.0087648453450335\n",
      "Percentage within threshold: 100.0\n",
      "Split 3:\n",
      "MAE: 0.2303507163601739\n",
      "sMAPE: 0.009217441227716287\n",
      "Percentage within threshold: 100.0\n",
      "Split 4:\n",
      "MAE: 0.1018192655202886\n",
      "sMAPE: 0.009305789961641941\n",
      "Percentage within threshold: 100.0\n"
     ]
    }
   ],
   "source": [
    "# create a group kfold object\n",
    "group_kfold = GroupKFold(n_splits=5)\n",
    "print(X.shape, y.shape, ids.shape)\n",
    "models_scores = {}\n",
    "# split the data and targets\n",
    "for split, (train_index, valid_index) in enumerate(\n",
    "    group_kfold.split(X, y, groups=grps)\n",
    "):\n",
    "    X_train, X_valid = X.iloc[train_index], X.iloc[valid_index]\n",
    "    y_train, y_valid = y.iloc[train_index], y.iloc[valid_index]\n",
    "    print(f\"Split {split}:\")\n",
    "    # predict with xgboost\n",
    "    xgb = XGBRegressor()\n",
    "    xgb.fit(X_train, y_train)\n",
    "    y_pred = xgb.predict(X_valid)\n",
    "    # calculate the mean absolute error\n",
    "    mae = np.mean(np.abs(y_pred - y_valid))\n",
    "    print(f\"MAE: {mae}\")\n",
    "    # calculate sMAPE\n",
    "    smape = np.mean(np.abs(y_pred - y_valid) / (np.abs(y_pred) + np.abs(y_valid)))\n",
    "    print(f\"sMAPE: {smape}\")\n",
    "    # calculate the percentage of predictions that are within the  threshold\n",
    "\n",
    "    pct_within_threshold = np.mean((smape) <= threshold) * 100\n",
    "    print(f\"Percentage within threshold: {pct_within_threshold}\")\n",
    "    models_scores[split] = mae"
   ]
  },
  {
   "cell_type": "code",
   "execution_count": 60,
   "metadata": {},
   "outputs": [
    {
     "data": {
      "text/plain": [
       "{0: 0.07740397118491128,\n",
       " 1: 0.0975061128612925,\n",
       " 2: 0.05726510986975953,\n",
       " 3: 0.2303507163601739,\n",
       " 4: 0.1018192655202886}"
      ]
     },
     "execution_count": 60,
     "metadata": {},
     "output_type": "execute_result"
    }
   ],
   "source": [
    "models_scores"
   ]
  },
  {
   "cell_type": "code",
   "execution_count": 163,
   "metadata": {},
   "outputs": [
    {
     "data": {
      "text/plain": [
       "XGBRegressor(base_score=None, booster=None, callbacks=None,\n",
       "             colsample_bylevel=None, colsample_bynode=None,\n",
       "             colsample_bytree=None, early_stopping_rounds=None,\n",
       "             enable_categorical=False, eval_metric=None, feature_types=None,\n",
       "             gamma=None, gpu_id=None, grow_policy=None, importance_type=None,\n",
       "             interaction_constraints=None, learning_rate=None, max_bin=None,\n",
       "             max_cat_threshold=None, max_cat_to_onehot=None,\n",
       "             max_delta_step=None, max_depth=None, max_leaves=None,\n",
       "             min_child_weight=None, missing=nan, monotone_constraints=None,\n",
       "             n_estimators=100, n_jobs=None, num_parallel_tree=None,\n",
       "             predictor=None, random_state=None, ...)"
      ]
     },
     "execution_count": 163,
     "metadata": {},
     "output_type": "execute_result"
    }
   ],
   "source": [
    "# train model on whole dataset\n",
    "xgb = XGBRegressor()\n",
    "xgb.fit(X, y)"
   ]
  },
  {
   "cell_type": "code",
   "execution_count": 164,
   "metadata": {},
   "outputs": [],
   "source": [
    "ids = test[\"cfips\"].unique()\n",
    "predictions = np.zeros((len(ids), 8))\n",
    "test_df = new_df[new_df[\"target_date\"] == new_df[\"target_date\"].max()].drop(\n",
    "    [\"target\", \"target_date\", \"POPESTIMATE2021\", \"active\", \"cfips\"], axis=1\n",
    ")"
   ]
  },
  {
   "cell_type": "code",
   "execution_count": 165,
   "metadata": {},
   "outputs": [],
   "source": [
    "# loop over the dataset and make predictions adding the last prediction as input for the next point\n",
    "for i in range(8):\n",
    "    predictions[:, i] = xgb.predict(test_df)\n",
    "    # print(test_df.iloc[1, :])\n",
    "    test_df[i + 24] = predictions[:, i]\n",
    "    test_df.drop(0, axis=1, inplace=True)\n",
    "    # rename the columns to 0:23\n",
    "    test_df.columns = range(0, 24)\n",
    "    # print(test_df.iloc[1, :])"
   ]
  },
  {
   "cell_type": "code",
   "execution_count": 166,
   "metadata": {},
   "outputs": [
    {
     "data": {
      "text/plain": [
       "(25080,)"
      ]
     },
     "execution_count": 166,
     "metadata": {},
     "output_type": "execute_result"
    }
   ],
   "source": [
    "predictions.reshape(-1).shape"
   ]
  },
  {
   "cell_type": "code",
   "execution_count": 167,
   "metadata": {},
   "outputs": [
    {
     "data": {
      "text/plain": [
       "(25080, 4)"
      ]
     },
     "execution_count": 167,
     "metadata": {},
     "output_type": "execute_result"
    }
   ],
   "source": [
    "test.shape"
   ]
  },
  {
   "cell_type": "code",
   "execution_count": 168,
   "metadata": {},
   "outputs": [],
   "source": [
    "# submission = test_df[:, -8:]\n",
    "test[\"microbusiness_density\"] = predictions.reshape(-1)"
   ]
  },
  {
   "cell_type": "code",
   "execution_count": 169,
   "metadata": {},
   "outputs": [
    {
     "data": {
      "text/html": [
       "<div>\n",
       "<style scoped>\n",
       "    .dataframe tbody tr th:only-of-type {\n",
       "        vertical-align: middle;\n",
       "    }\n",
       "\n",
       "    .dataframe tbody tr th {\n",
       "        vertical-align: top;\n",
       "    }\n",
       "\n",
       "    .dataframe thead th {\n",
       "        text-align: right;\n",
       "    }\n",
       "</style>\n",
       "<table border=\"1\" class=\"dataframe\">\n",
       "  <thead>\n",
       "    <tr style=\"text-align: right;\">\n",
       "      <th></th>\n",
       "      <th>row_id</th>\n",
       "      <th>cfips</th>\n",
       "      <th>first_day_of_month</th>\n",
       "      <th>microbusiness_density</th>\n",
       "    </tr>\n",
       "  </thead>\n",
       "  <tbody>\n",
       "    <tr>\n",
       "      <th>0</th>\n",
       "      <td>1001_2022-11-01</td>\n",
       "      <td>1001</td>\n",
       "      <td>2022-11-01</td>\n",
       "      <td>3.438227</td>\n",
       "    </tr>\n",
       "    <tr>\n",
       "      <th>3135</th>\n",
       "      <td>1001_2022-12-01</td>\n",
       "      <td>1001</td>\n",
       "      <td>2022-12-01</td>\n",
       "      <td>3.436547</td>\n",
       "    </tr>\n",
       "    <tr>\n",
       "      <th>6270</th>\n",
       "      <td>1001_2023-01-01</td>\n",
       "      <td>1001</td>\n",
       "      <td>2023-01-01</td>\n",
       "      <td>3.430106</td>\n",
       "    </tr>\n",
       "    <tr>\n",
       "      <th>9405</th>\n",
       "      <td>1001_2023-02-01</td>\n",
       "      <td>1001</td>\n",
       "      <td>2023-02-01</td>\n",
       "      <td>3.430106</td>\n",
       "    </tr>\n",
       "    <tr>\n",
       "      <th>12540</th>\n",
       "      <td>1001_2023-03-01</td>\n",
       "      <td>1001</td>\n",
       "      <td>2023-03-01</td>\n",
       "      <td>3.430106</td>\n",
       "    </tr>\n",
       "    <tr>\n",
       "      <th>15675</th>\n",
       "      <td>1001_2023-04-01</td>\n",
       "      <td>1001</td>\n",
       "      <td>2023-04-01</td>\n",
       "      <td>3.430106</td>\n",
       "    </tr>\n",
       "    <tr>\n",
       "      <th>18810</th>\n",
       "      <td>1001_2023-05-01</td>\n",
       "      <td>1001</td>\n",
       "      <td>2023-05-01</td>\n",
       "      <td>3.431787</td>\n",
       "    </tr>\n",
       "    <tr>\n",
       "      <th>21945</th>\n",
       "      <td>1001_2023-06-01</td>\n",
       "      <td>1001</td>\n",
       "      <td>2023-06-01</td>\n",
       "      <td>3.431787</td>\n",
       "    </tr>\n",
       "  </tbody>\n",
       "</table>\n",
       "</div>"
      ],
      "text/plain": [
       "                row_id  cfips first_day_of_month  microbusiness_density\n",
       "0      1001_2022-11-01   1001         2022-11-01               3.438227\n",
       "3135   1001_2022-12-01   1001         2022-12-01               3.436547\n",
       "6270   1001_2023-01-01   1001         2023-01-01               3.430106\n",
       "9405   1001_2023-02-01   1001         2023-02-01               3.430106\n",
       "12540  1001_2023-03-01   1001         2023-03-01               3.430106\n",
       "15675  1001_2023-04-01   1001         2023-04-01               3.430106\n",
       "18810  1001_2023-05-01   1001         2023-05-01               3.431787\n",
       "21945  1001_2023-06-01   1001         2023-06-01               3.431787"
      ]
     },
     "execution_count": 169,
     "metadata": {},
     "output_type": "execute_result"
    }
   ],
   "source": [
    "test.head(8)"
   ]
  },
  {
   "cell_type": "code",
   "execution_count": 170,
   "metadata": {},
   "outputs": [],
   "source": [
    "result = test[[\"row_id\", \"microbusiness_density\"]]\n",
    "result.to_csv(\"../data/submissions/ml_test_1.csv\", index=False)"
   ]
  },
  {
   "cell_type": "code",
   "execution_count": 171,
   "metadata": {},
   "outputs": [],
   "source": [
    "import tensorflow as tf"
   ]
  },
  {
   "cell_type": "code",
   "execution_count": 172,
   "metadata": {},
   "outputs": [],
   "source": [
    "def build_model():\n",
    "\n",
    "    inp = tf.keras.Input(shape=(24, 1))\n",
    "\n",
    "    x = tf.keras.layers.GRU(units=128, return_sequences=False)(inp)\n",
    "    x = tf.keras.layers.Dense(1, activation=\"linear\")(x)\n",
    "    model = tf.keras.Model(inputs=inp, outputs=x)\n",
    "\n",
    "    opt = tf.keras.optimizers.Adam(learning_rate=0.001)\n",
    "    loss = tf.keras.losses.MeanSquaredError()\n",
    "    model.compile(loss=loss, optimizer=opt)\n",
    "\n",
    "    return model"
   ]
  },
  {
   "cell_type": "code",
   "execution_count": 173,
   "metadata": {},
   "outputs": [],
   "source": [
    "model = build_model()"
   ]
  },
  {
   "cell_type": "code",
   "execution_count": 176,
   "metadata": {},
   "outputs": [
    {
     "name": "stdout",
     "output_type": "stream",
     "text": [
      "Epoch 1/25\n",
      "1470/1470 [==============================] - 14s 10ms/step - loss: 6.8149\n",
      "Epoch 2/25\n",
      "1470/1470 [==============================] - 14s 10ms/step - loss: 4.5778\n",
      "Epoch 3/25\n",
      "1470/1470 [==============================] - 15s 10ms/step - loss: 3.4772\n",
      "Epoch 4/25\n",
      "1470/1470 [==============================] - 14s 9ms/step - loss: 2.9967\n",
      "Epoch 5/25\n",
      "1470/1470 [==============================] - 14s 9ms/step - loss: 2.5291\n",
      "Epoch 6/25\n",
      "1470/1470 [==============================] - 14s 9ms/step - loss: 2.0767\n",
      "Epoch 7/25\n",
      "1470/1470 [==============================] - 13s 9ms/step - loss: 2.1429\n",
      "Epoch 8/25\n",
      "1470/1470 [==============================] - 14s 9ms/step - loss: 1.9303\n",
      "Epoch 9/25\n",
      "1470/1470 [==============================] - 14s 9ms/step - loss: 1.7329\n",
      "Epoch 10/25\n",
      "1470/1470 [==============================] - 14s 9ms/step - loss: 1.5685\n",
      "Epoch 11/25\n",
      "1470/1470 [==============================] - 14s 9ms/step - loss: 1.5144\n",
      "Epoch 12/25\n",
      "1470/1470 [==============================] - 14s 10ms/step - loss: 1.6478\n",
      "Epoch 13/25\n",
      "1470/1470 [==============================] - 15s 10ms/step - loss: 1.4948\n",
      "Epoch 14/25\n",
      "1470/1470 [==============================] - 15s 10ms/step - loss: 1.7713\n",
      "Epoch 15/25\n",
      "1470/1470 [==============================] - 16s 11ms/step - loss: 1.4330\n",
      "Epoch 16/25\n",
      "1470/1470 [==============================] - 17s 12ms/step - loss: 1.1472\n",
      "Epoch 17/25\n",
      "1470/1470 [==============================] - 15s 11ms/step - loss: 1.2914\n",
      "Epoch 18/25\n",
      "1470/1470 [==============================] - 18s 12ms/step - loss: 1.2814\n",
      "Epoch 19/25\n",
      "1470/1470 [==============================] - 18s 12ms/step - loss: 1.2837\n",
      "Epoch 20/25\n",
      "1470/1470 [==============================] - 16s 11ms/step - loss: 1.1924\n",
      "Epoch 21/25\n",
      "1470/1470 [==============================] - 16s 11ms/step - loss: 1.1134\n",
      "Epoch 22/25\n",
      "1470/1470 [==============================] - 19s 13ms/step - loss: 1.2164\n",
      "Epoch 23/25\n",
      "1470/1470 [==============================] - 17s 11ms/step - loss: 1.4705\n",
      "Epoch 24/25\n",
      "1470/1470 [==============================] - 16s 11ms/step - loss: 1.4337\n",
      "Epoch 25/25\n",
      "1470/1470 [==============================] - 16s 11ms/step - loss: 1.4083\n"
     ]
    },
    {
     "data": {
      "text/plain": [
       "<keras.callbacks.History at 0x15db58b9ca0>"
      ]
     },
     "execution_count": 176,
     "metadata": {},
     "output_type": "execute_result"
    }
   ],
   "source": [
    "model.fit(X, y, epochs=25)"
   ]
  },
  {
   "cell_type": "code",
   "execution_count": 177,
   "metadata": {},
   "outputs": [],
   "source": [
    "model.save_weights(\"../models/ml_test_1.h5\")"
   ]
  },
  {
   "attachments": {},
   "cell_type": "markdown",
   "metadata": {},
   "source": [
    "## train the model but only with highly populated counties"
   ]
  },
  {
   "cell_type": "code",
   "execution_count": 182,
   "metadata": {},
   "outputs": [],
   "source": [
    "model = build_model()"
   ]
  },
  {
   "cell_type": "code",
   "execution_count": 183,
   "metadata": {},
   "outputs": [],
   "source": [
    "# find the 50% percentile based on POPESTIMATE2021\n",
    "subset_df = new_df[new_df[\"POPESTIMATE2021\"] > new_df[\"POPESTIMATE2021\"].quantile(0.5)]\n",
    "X_subset = subset_df.drop(\n",
    "    [\"target\", \"target_date\", \"cfips\", \"POPESTIMATE2021\", \"active\"], axis=1\n",
    ")\n",
    "y_subset = subset_df[\"target\"]"
   ]
  },
  {
   "cell_type": "code",
   "execution_count": 184,
   "metadata": {},
   "outputs": [
    {
     "data": {
      "text/plain": [
       "((23505, 24), (23505,))"
      ]
     },
     "execution_count": 184,
     "metadata": {},
     "output_type": "execute_result"
    }
   ],
   "source": [
    "X_subset.shape, y_subset.shape"
   ]
  },
  {
   "cell_type": "code",
   "execution_count": 191,
   "metadata": {},
   "outputs": [
    {
     "name": "stdout",
     "output_type": "stream",
     "text": [
      "Num GPUs Available:  1\n",
      "Epoch 1/25\n",
      "735/735 [==============================] - 5s 7ms/step - loss: 2.4330\n",
      "Epoch 2/25\n",
      "735/735 [==============================] - 6s 8ms/step - loss: 2.0445\n",
      "Epoch 3/25\n",
      "735/735 [==============================] - 6s 8ms/step - loss: 2.0091\n",
      "Epoch 4/25\n",
      "735/735 [==============================] - 6s 8ms/step - loss: 2.0928\n",
      "Epoch 5/25\n",
      "735/735 [==============================] - 6s 8ms/step - loss: 2.0168\n",
      "Epoch 6/25\n",
      "735/735 [==============================] - 5s 7ms/step - loss: 1.9254\n",
      "Epoch 7/25\n",
      "735/735 [==============================] - 6s 8ms/step - loss: 1.9019\n",
      "Epoch 8/25\n",
      "735/735 [==============================] - 6s 8ms/step - loss: 1.9705\n",
      "Epoch 9/25\n",
      "735/735 [==============================] - 6s 9ms/step - loss: 2.1513\n",
      "Epoch 10/25\n",
      "735/735 [==============================] - 6s 8ms/step - loss: 2.0228\n",
      "Epoch 11/25\n",
      "735/735 [==============================] - 6s 8ms/step - loss: 1.9717\n",
      "Epoch 12/25\n",
      "735/735 [==============================] - 6s 8ms/step - loss: 2.0213\n",
      "Epoch 13/25\n",
      "735/735 [==============================] - 6s 8ms/step - loss: 2.3005\n",
      "Epoch 14/25\n",
      "735/735 [==============================] - 6s 8ms/step - loss: 1.9993\n",
      "Epoch 15/25\n",
      "735/735 [==============================] - 6s 8ms/step - loss: 1.9282\n",
      "Epoch 16/25\n",
      "735/735 [==============================] - 6s 8ms/step - loss: 1.9502\n",
      "Epoch 17/25\n",
      "735/735 [==============================] - 6s 8ms/step - loss: 2.1395\n",
      "Epoch 18/25\n",
      "735/735 [==============================] - 6s 9ms/step - loss: 1.9231\n",
      "Epoch 19/25\n",
      "735/735 [==============================] - 6s 8ms/step - loss: 1.8571\n",
      "Epoch 20/25\n",
      "735/735 [==============================] - 6s 9ms/step - loss: 1.8349\n",
      "Epoch 21/25\n",
      "735/735 [==============================] - 6s 8ms/step - loss: 1.8410\n",
      "Epoch 22/25\n",
      "735/735 [==============================] - 6s 8ms/step - loss: 1.8215\n",
      "Epoch 23/25\n",
      "735/735 [==============================] - 5s 7ms/step - loss: 1.9460\n",
      "Epoch 24/25\n",
      "735/735 [==============================] - 6s 8ms/step - loss: 2.1264\n",
      "Epoch 25/25\n",
      "735/735 [==============================] - 6s 8ms/step - loss: 2.0206\n"
     ]
    }
   ],
   "source": [
    "print(\"Num GPUs Available: \", len(tf.config.experimental.list_physical_devices(\"GPU\")))\n",
    "# train with gpu\n",
    "result = None\n",
    "with tf.device(\"/GPU:0\"):\n",
    "    result = model.fit(X_subset, y_subset, epochs=25)"
   ]
  },
  {
   "cell_type": "code",
   "execution_count": 196,
   "metadata": {},
   "outputs": [
    {
     "data": {
      "image/png": "[encoded data removed]",
      "text/plain": [
       "<Figure size 720x360 with 1 Axes>"
      ]
     },
     "metadata": {
      "needs_background": "light"
     },
     "output_type": "display_data"
    }
   ],
   "source": [
    "# plot the loss\n",
    "fig = plt.figure(figsize=(10, 5))\n",
    "plt.plot(result.history[\"loss\"])\n",
    "plt.title(\"Loss\")\n",
    "plt.xlabel(\"Epochs\")\n",
    "plt.ylabel(\"Loss\")\n",
    "plt.show()"
   ]
  }
 ],
 "metadata": {
  "kernelspec": {
   "display_name": "Python 3",
   "language": "python",
   "name": "python3"
  },
  "language_info": {
   "codemirror_mode": {
    "name": "ipython",
    "version": 3
   },
   "file_extension": ".py",
   "mimetype": "text/x-python",
   "name": "python",
   "nbconvert_exporter": "python",
   "pygments_lexer": "ipython3",
   "version": "3.8.10"
  },
  "orig_nbformat": 4,
  "vscode": {
   "interpreter": {
    "hash": "39739dead8b6e157ed7676b80302e88909c39a480c510e352b9abc4b517711ff"
   }
  }
 },
 "nbformat": 4,
 "nbformat_minor": 2
}
